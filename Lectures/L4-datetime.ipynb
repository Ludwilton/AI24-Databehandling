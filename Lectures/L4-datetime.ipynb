{
 "cells": [
  {
   "cell_type": "markdown",
   "metadata": {},
   "source": [
    "\n",
    "<a href=\"https://colab.research.google.com/github/kokchun/Databehandling-AI22/blob/main/Lectures/L4-datetime.ipynb\" target=\"_parent\"><img align=\"left\" src=\"https://colab.research.google.com/assets/colab-badge.svg\" alt=\"Open In Colab\"/></a> &nbsp; for interacting with the code"
   ]
  },
  {
   "cell_type": "markdown",
   "metadata": {},
   "source": [
    "---\n",
    "# Lecture notes - Python's datetime\n",
    "---\n",
    "\n",
    "This is the lecture note for datetime module in Python - but it's built previous course: \n",
    "- Python programming\n",
    "\n",
    "<p class = \"alert alert-info\" role=\"alert\"><b>Note</b> that this lecture note gives a brief introduction to Pythons datetime. I encourage you to read further about datetime.\n",
    "\n",
    "Read more \n",
    "- [Datetime documentation](https://docs.python.org/3/library/datetime.html)\n",
    "- [w3schools - Datetime](https://www.w3schools.com/python/python_datetime.asp)\n",
    "---"
   ]
  },
  {
   "cell_type": "markdown",
   "metadata": {},
   "source": [
    "## Datetime obj <-> str\n",
    "- strftime: datetime obj -> str\n",
    "- strptime: str obj -> datetime obj"
   ]
  },
  {
   "cell_type": "code",
   "execution_count": 6,
   "metadata": {},
   "outputs": [
    {
     "name": "stdout",
     "output_type": "stream",
     "text": [
      "2024-10-28 10:08:47.785829\n",
      "Todays date is 2024-10-28\n",
      "Today is Monday\n",
      "The week is 44\n"
     ]
    }
   ],
   "source": [
    "from datetime import datetime \n",
    "\n",
    "now = datetime.now()\n",
    "print(now) # format: year-month-date hour:min:sec.microsecs\n",
    "print(f\"Todays date is {now.date()}\")\n",
    "print(f\"Today is {now.strftime('%A')}\")\n",
    "print(f\"The week is {now.strftime('%W')}\")\n"
   ]
  },
  {
   "cell_type": "code",
   "execution_count": 10,
   "metadata": {},
   "outputs": [
    {
     "name": "stdout",
     "output_type": "stream",
     "text": [
      "2026-05-19 00:00:00\n"
     ]
    },
    {
     "data": {
      "text/plain": [
       "datetime.datetime(2026, 5, 19, 0, 0)"
      ]
     },
     "execution_count": 10,
     "metadata": {},
     "output_type": "execute_result"
    }
   ],
   "source": [
    "graduation_date = \"19/5-2026\"\n",
    "graduation_date = datetime.strptime(graduation_date, \"%d/%m-%Y\")\n",
    "print(graduation_date) # __str__()\n",
    "graduation_date # __repr__()"
   ]
  },
  {
   "cell_type": "code",
   "execution_count": 11,
   "metadata": {},
   "outputs": [
    {
     "name": "stdout",
     "output_type": "stream",
     "text": [
      "567 days, 13:51:12.214171\n"
     ]
    },
    {
     "data": {
      "text/plain": [
       "datetime.timedelta(days=567, seconds=49872, microseconds=214171)"
      ]
     },
     "execution_count": 11,
     "metadata": {},
     "output_type": "execute_result"
    }
   ],
   "source": [
    "remaining_time = graduation_date-now\n",
    "print(remaining_time)\n",
    "remaining_time # a timedelta obj with days, sec, microsec"
   ]
  },
  {
   "cell_type": "code",
   "execution_count": 12,
   "metadata": {},
   "outputs": [
    {
     "name": "stdout",
     "output_type": "stream",
     "text": [
      "1.55 years left before graduation\n"
     ]
    }
   ],
   "source": [
    "print(f\"{remaining_time.days/365:.2f} years left before graduation\")"
   ]
  },
  {
   "cell_type": "code",
   "execution_count": 15,
   "metadata": {},
   "outputs": [
    {
     "data": {
      "text/plain": [
       "'Week: 52, day: Tue'"
      ]
     },
     "execution_count": 15,
     "metadata": {},
     "output_type": "execute_result"
    }
   ],
   "source": [
    "christmas_str = \"2024-12-24\"\n",
    "christmas_date = datetime.strptime(christmas_str, \"%Y-%m-%d\")\n",
    "christmas_date.strftime(\"Week: %W, day: %a\") # check calendar if correct"
   ]
  },
  {
   "cell_type": "markdown",
   "metadata": {},
   "source": [
    "---\n",
    "\n",
    "Kokchun Giang\n",
    "\n",
    "[LinkedIn][linkedIn_kokchun]\n",
    "\n",
    "[GitHub portfolio][github_portfolio]\n",
    "\n",
    "[linkedIn_kokchun]: https://www.linkedin.com/in/kokchungiang/\n",
    "[github_portfolio]: https://github.com/kokchun/Portfolio-Kokchun-Giang\n",
    "\n",
    "---"
   ]
  }
 ],
 "metadata": {
  "kernelspec": {
   "display_name": ".venv",
   "language": "python",
   "name": "python3"
  },
  "language_info": {
   "codemirror_mode": {
    "name": "ipython",
    "version": 3
   },
   "file_extension": ".py",
   "mimetype": "text/x-python",
   "name": "python",
   "nbconvert_exporter": "python",
   "pygments_lexer": "ipython3",
   "version": "3.12.2"
  },
  "orig_nbformat": 4
 },
 "nbformat": 4,
 "nbformat_minor": 2
}
