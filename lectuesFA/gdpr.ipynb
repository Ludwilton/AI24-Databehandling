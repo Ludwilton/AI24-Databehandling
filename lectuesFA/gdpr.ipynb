{
 "cells": [
  {
   "cell_type": "markdown",
   "metadata": {},
   "source": [
    "# GDPR notes"
   ]
  },
  {
   "cell_type": "markdown",
   "metadata": {},
   "source": [
    "rätten till personlig integritet är en grundläggande mänsklig rättighet\n",
    "\n",
    "den är inskriven i regeringsformen 2:6 och i euripakonventionen om skydd för de mänskliga röttigheterna\n",
    "\n",
    "dataskyddsförordningen detaljerar individens rättigheter och hur de skall säkerställas\n",
    "\n",
    "dso skall övervara att den personuppgiftsansvarige säkerställer dessa rättigheter\n"
   ]
  },
  {
   "cell_type": "markdown",
   "metadata": {},
   "source": [
    "en personupgift är all information som direkt eller indirekt kan användas för att idntifiera en fysisk person\n",
    "\n",
    "exempel på personuppgifter är namn, efternamn, personnummer, adress, telefonnummer, email, bild, ipadress, inloggningsuppgifter, registreringsnummer, fingeavtryck, position, bankkortsnummer\n",
    "\n",
    "en kombination av uppgifter som var för sig inte är personuppgifter"
   ]
  },
  {
   "cell_type": "markdown",
   "metadata": {},
   "source": [
    "# personuppgiftsbehandling\n",
    "\n",
    "personuppgiftsbehandling är allt man kan göra med en personuppgift\n",
    "\n",
    "exempelvis:\n",
    "\n",
    "ta emot, samla in , lagra, vidarebefordra, läsa, blockera, skriva ut, uppdatera, komplettera, flytta, radera, och säkerhetslagra\n",
    "\n",
    "tänk på att ett organisation lagrar personuppgifter som inte är synliga i de vanliga användargränssnitt;\n",
    " det gäller loggar, backupper, användarregister\n"
   ]
  },
  {
   "cell_type": "markdown",
   "metadata": {},
   "source": [
    "# vad är en känslig personuppgift\n",
    "\n",
    "utgångspunkten är att det är förbjudet att behandla känsliga personuppgifter, man måste säkerställa att man har undantag från förbudet\n",
    "\n",
    "benämns som särskild kategori i lagtexten\n",
    "\n",
    "en känslig personuppgift är en uppgift som avslöjar\n",
    "\n",
    "ras eller etniskt ursprung\n",
    "politiska åsikter\n",
    "religiös eller filosofisk övertygelse\n",
    "medlemskap i fackförening\n",
    "hälsoaspekter\n",
    "en persons sexualliv eller sexuell läggning\n",
    "genetiska uppgifter\n",
    "biometriska uppgifter som entydigt identifierar en person \n",
    "lagöverträdelser som innefattar brott\n",
    "\n"
   ]
  },
  {
   "cell_type": "markdown",
   "metadata": {},
   "source": [
    "stora mänger anonyma digitaliserade personuppgifter\n",
    "\n",
    "facebook likes\n",
    "\n",
    "dina foto\n",
    "\n",
    "dina resvanor\n",
    "\n",
    "+:  lärande maskiner\n",
    "\n",
    "= mönsterigenkänning\n",
    "\n",
    "= kategorisering\n",
    "\n",
    "= precis marknadsföring och propaganda\n",
    "\n",
    "= diskriminering\n",
    "\n",
    "massor av skandaler"
   ]
  },
  {
   "cell_type": "markdown",
   "metadata": {},
   "source": [
    "# foton\n",
    "\n",
    "foton är biometriska uppgifter och därflr känsliga\n",
    "\n",
    "men : endast definieras som biometriska uppgifter när de bahandlas med särskild teknik som möjlliggör identifiering eller autentisering av en fysisk person\n",
    "\n",
    "\n",
    "de kräver därför skyddsåtgärder som om de vore känsliga personuppgifter\n",
    "\n",
    "var extremt restriktiv med att publicera dem\n",
    "\n"
   ]
  },
  {
   "cell_type": "markdown",
   "metadata": {},
   "source": [
    "foton för vissa användningar\n",
    "\n",
    "är bilderna ett resultat av ett konstnärligt skapande eller\n",
    "\n",
    "har ett journalistiskt ändamål gäller inte gdpr\n",
    "\n",
    "men om samma bilder skulle börja anväändas i till exempell komersiella sammanhang då kan gdpr gälla och det behövs en laglig grund för behandlingen\n",
    "§"
   ]
  },
  {
   "cell_type": "markdown",
   "metadata": {},
   "source": [
    "# särskilda personuppgifter\n",
    "\n"
   ]
  },
  {
   "cell_type": "markdown",
   "metadata": {},
   "source": [
    "personnummer och samorrningsnymmer utgör inte känsliga personuppgifter i dataskyddsförordningens mening men har ändå getts en särställning genom att medlemstaterna getts möjlighet att införa särskilda villkor för behandlingen\n",
    "\n",
    "personnummer och samordningsnummer får behandlas utan ssamtycke endast när det är klart motiverat med hänsyn till ändamålet med behandlingen, vikten av en säker identifiering eller något annat beaktansvärt skäl\n",
    "\n",
    "engelsk tedxt i lagstifningen or any other identifier of general application\n",
    "\n",
    "det är rimligt att anta att även fastighetsbeteckning, anläggnings id mm är att betrakta som särskilda personuppgifter\n",
    "\n"
   ]
  },
  {
   "cell_type": "markdown",
   "metadata": {},
   "source": [
    "# personuppgiftsanvsarig\n",
    "\n",
    "juridisk person, offentlig mmyndighet, intitution eller annat organ som ensamt eller tillsammans med andra bestämmer ändamålen med behandlingen av personuppgifter\n",
    "\n",
    "man kan vara  gemensamt personuppgiftsanvsarig om::\n",
    "det rör sig om leverans av professionella tjänster\n",
    "samverkan kring gemensamma system\n",
    "är den som ansvarar gentemod den registrrade och myndigheter\n",
    "ny vägledning om gränsdragningen mellan ansvarig och biträde\n",
    "\n"
   ]
  },
  {
   "cell_type": "markdown",
   "metadata": {},
   "source": [
    "personuppgiftsbiträde\n",
    "den som behandlar personuppgifter för den personuppgiftsansvariges räkning är presonuppgiftsbiträde\n",
    "\n",
    "skall bara behandla pu i enlighet med instruktionerna\n",
    "konsulter som jobbar i puas organisation är normalt inte biträden\n",
    "\n",
    "har eget ansvar för personuppgiftersbehandlingen\n",
    "\n",
    "skrifgligt medgivande för att anlita underbiträden\n",
    "\n",
    "har ett eget ansvar för att vidta lämpliga tekniska och organisatoriska åtgärder för att se till att säkertsnivån för er behandling är tillräcklig\n",
    "\n",
    "skall informera personuppgiftsansvarig om personuppgiftsincidenter"
   ]
  },
  {
   "cell_type": "markdown",
   "metadata": {},
   "source": [
    "personuppgiftsincident\n",
    "\n",
    "en personuppgiftsincident är en säkerhetsincident som ledet till\n",
    "\n",
    "oavsiktlig eller olaglig förstöring, förlust eller ändring av personuppgifter som behandlas\n",
    "\n",
    "obehörigt röjande av eller obehörig åtkomst till de behandade personuppgifterna\n",
    "\n",
    "gdpr ställer krav p att rapportera imy inom 72 timmar och i förekommande falll till de drabbade individerna från vetskap on invidenten\n",
    "\n",
    "pu ansvarig måste ha förmågan att upptäcka och kartlgga incidenter\n",
    "\n",
    "exempel diskriminering, identitietsstöld, bedrägeri, skadlig ryktesspridning, bott mot sekretess eller tystnadsplikt, personuppfgifter har blivit förstörda , personuppgifter har kommit i orätta händer\n",
    "\n"
   ]
  },
  {
   "cell_type": "markdown",
   "metadata": {},
   "source": [
    "# personuppgiftsincident - metoder\n",
    "\n"
   ]
  },
  {
   "cell_type": "markdown",
   "metadata": {},
   "source": [
    "monitorering\n",
    "vi behöver övervaka ad som händer i våra och biträdets system\n",
    "\n",
    "loggning\n",
    "\n",
    "vi skall kunna rapportera vad som hänt och kunna  åtgärda \n",
    "\n",
    "rapporteringsrutiner\n",
    "\n",
    "hur och när skall boträdet rapportera\n",
    "\n",
    "hur kopplar vi incidenten till vår krishantering\n",
    "\n",
    "vem rapporterar till imy och meddelar den registrerade\n",
    "\n"
   ]
  },
  {
   "cell_type": "markdown",
   "metadata": {},
   "source": [
    "# har vi rättslig grund för behandling av personuppgifter\n",
    "\n"
   ]
  },
  {
   "cell_type": "markdown",
   "metadata": {},
   "source": [
    "6 rättsliga grunder för behandling\n",
    "\n",
    "fullgörande av avtal\n",
    "\n",
    "rättslig förpliktelse\n",
    "\n",
    "skydda den registrerades intressen\n",
    "\n",
    "allmänt intresse\n",
    "\n",
    "intresseavvägning\n",
    "\n",
    "samtycke"
   ]
  },
  {
   "cell_type": "markdown",
   "metadata": {},
   "source": []
  },
  {
   "cell_type": "markdown",
   "metadata": {},
   "source": [
    "samtycke ska vara\n",
    "\n",
    "frivilligt\n",
    "\n",
    "specifikt\n",
    "\n",
    "otevetydigt\n",
    "\n",
    "individuellt\n",
    "\n",
    "informerat\n",
    "\n",
    "frågan om samtycke måste ställas fritt från andra frågor, på ett klart och lättbegripligt språk och separerat från andra villkor\n",
    "\n",
    "bekräftelse på samtycke måste vara en aktiv handling, inte förkryssande rutor\n",
    "\n",
    "organisationen måste säkerställa att den kan bevisa"
   ]
  },
  {
   "cell_type": "markdown",
   "metadata": {},
   "source": [
    "rekryteringsprocess\n",
    "\n",
    "namn\n",
    "adress\n",
    "e-postadress\n",
    "telefonnummer\n",
    "referenser\n",
    "personnummer\n",
    "personlig berättelse\n",
    "lämplighetsbedömning\n",
    "familjeförhållanden\n",
    "tidigare arbetsgivare\n",
    "uttrad ut brottsregister\n",
    "sjukdomshistorik\n",
    "civilstånd\n",
    "särskilda behov"
   ]
  },
  {
   "cell_type": "markdown",
   "metadata": {},
   "source": [
    "förmågor vi bör övervaka och testa\n",
    "\n",
    "att på begärankunna ta fram personuppgifter som gäller en viss person\n",
    "\n",
    "at på begäran kunna readera alla personuppgifter om en viss person efter att först ha bedömt att det inte stöter på hinder\n",
    "\n",
    "att kunnda ändra åerspnuppgifter på begäran av den det gäller\n",
    "\n",
    "att om man överfört personuppgifter till en annan organisation s, säkerställa att ändring eller radering av personuppgifter överförts till den organisationen\n",
    "\n",
    "att kunna ta emot och hanter information från en annan organisation om öndringar och radering av personuppgifter\n",
    "\n",
    "att kunna lämna ut alla uppgifter till en registrerad i maskinläsbart format utan onödigt krångel\n",
    "\n"
   ]
  },
  {
   "cell_type": "markdown",
   "metadata": {},
   "source": [
    "# sammanfattning\n",
    "\n",
    "vi behöver visa att vi har kontroll på alla våra behandlingar av personuppgifter\n",
    "\n",
    "vi skall ha ett tydligt ändamål för alla våra behandlingar\n",
    "\n",
    "behandlingarna skall uppfylla lagens principer\n",
    "\n",
    "och ha en angiven laglig grund i sista hand samtycke\n",
    "\n",
    "kan vi säkerställa de registrerades rättigheter?"
   ]
  }
 ],
 "metadata": {
  "kernelspec": {
   "display_name": ".venv",
   "language": "python",
   "name": "python3"
  },
  "language_info": {
   "name": "python",
   "version": "3.12.2"
  }
 },
 "nbformat": 4,
 "nbformat_minor": 2
}
