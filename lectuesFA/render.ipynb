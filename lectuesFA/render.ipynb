{
 "cells": [
  {
   "cell_type": "markdown",
   "metadata": {},
   "source": [
    "https://www.kaggle.com/code/marcogdepinto/let-s-discover-more-about-the-olympic-games"
   ]
  },
  {
   "cell_type": "markdown",
   "metadata": {},
   "source": [
    "render.com\n"
   ]
  }
 ],
 "metadata": {
  "language_info": {
   "name": "python"
  }
 },
 "nbformat": 4,
 "nbformat_minor": 2
}
