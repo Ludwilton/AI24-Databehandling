{
 "cells": [
  {
   "cell_type": "code",
   "execution_count": 15,
   "metadata": {},
   "outputs": [
    {
     "data": {
      "text/plain": [
       "<Response [200]>"
      ]
     },
     "execution_count": 15,
     "metadata": {},
     "output_type": "execute_result"
    }
   ],
   "source": [
    "import requests\n",
    "import os\n",
    "from dotenv import load_dotenv\n",
    "import pandas as pd\n",
    "result = requests.get(\"http://www.sunet.se\")\n",
    "result"
   ]
  },
  {
   "cell_type": "code",
   "execution_count": 16,
   "metadata": {},
   "outputs": [
    {
     "name": "stdout",
     "output_type": "stream",
     "text": [
      "None\n",
      "<built-in function chdir>\n"
     ]
    }
   ],
   "source": [
    "symbols = [\"AAPL\", \"NVDA\", \"TSLA\", \"IBM\"]\n",
    "function = \"TIME_SERIES_INTRADAY\"\n",
    "api_key = os.getenv(\"ALPHA_API_KEY\")\n",
    "stock_list = []\n",
    "\n",
    "\n",
    "# for symbol in symbols: \n",
    "#     url = f\"https://www.alphavantage.co/query?function={function}&symbol={symbol}&interval=5min&apikey={api_key}\"\n",
    "#     data = requests.get(url).json()\n",
    "#     print(data)\n",
    "#     df = pd.DataFrame(data[\"Time Series (5min)\"]).transpose()\n",
    "#     df = df[\"4. close\"].rename(symbol).astype(float)\n",
    "#     stock_list.append(df)\n",
    "print(api_key)\n"
   ]
  }
 ],
 "metadata": {
  "kernelspec": {
   "display_name": ".venv",
   "language": "python",
   "name": "python3"
  },
  "language_info": {
   "codemirror_mode": {
    "name": "ipython",
    "version": 3
   },
   "file_extension": ".py",
   "mimetype": "text/x-python",
   "name": "python",
   "nbconvert_exporter": "python",
   "pygments_lexer": "ipython3",
   "version": "3.12.2"
  }
 },
 "nbformat": 4,
 "nbformat_minor": 2
}
