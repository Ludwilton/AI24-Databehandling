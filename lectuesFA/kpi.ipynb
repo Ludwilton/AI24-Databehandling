{
 "cells": [
  {
   "cell_type": "markdown",
   "metadata": {},
   "source": [
    "kpi - key performance indicators\n",
    "används för att mäta effektivitet hos till exempel en verksamhet,\n",
    "vilka faktorer som mäts varierar frn fall till fall.\n",
    "\n",
    "syftet är att genom mäta ett fåtal indikationer, nyckeltalen, få ett korrekt mått på prestanda, effektivitet, eller prestation av hela verskatmheten.\n",
    "\n"
   ]
  },
  {
   "cell_type": "markdown",
   "metadata": {},
   "source": [
    "några exempel på yckeltal kan vara\n",
    "\n",
    "försäljningsintäkter\n",
    "\n",
    "vinstmarginal\n",
    "\n",
    "kostnadsreduktion\n",
    "\n",
    "medelnivå på kundnöjdhet på en skala\n",
    "\n",
    "maximal väntetid för en kund\n",
    "\n"
   ]
  },
  {
   "cell_type": "markdown",
   "metadata": {},
   "source": [
    "vad är kpi"
   ]
  },
  {
   "cell_type": "markdown",
   "metadata": {},
   "source": [
    "\n",
    "mätbara\n",
    "faktorer som är kritisika för framgång i organisationen\n",
    "\n",
    "kopplade till affärsmål\n",
    "\n",
    "begränsad till 5-8 mätvärden\n",
    "\n",
    "applicerbara för hela företaget\n",
    "\n"
   ]
  },
  {
   "cell_type": "markdown",
   "metadata": {},
   "source": [
    "typer av kpi:er\n",
    "\n",
    "produktivitet\n",
    "\n",
    "ekonomi\n",
    "\n",
    "marknadsföring\n",
    "\n",
    "kvalitet\n",
    "\n"
   ]
  },
  {
   "cell_type": "markdown",
   "metadata": {},
   "source": [
    "varför viktigt med kpier \n",
    "\n",
    "identifiera trender\n",
    "\n",
    "viktigt vid breslut \n",
    "\n",
    "signal på att något är fel\n",
    "\n",
    "prioriteringar i verksamheten\n",
    "\n",
    "mäta prestationen\n",
    "\n",
    "."
   ]
  },
  {
   "cell_type": "markdown",
   "metadata": {},
   "source": [
    "hur skapas kpier\n",
    "\n",
    "kopplat till övergripande mål\n",
    "\n",
    "hur ser processen ut, säljprocess, vaccinationsprocess, kvalitetsprocessm etc.\n",
    "\n",
    "säkertställ meningsfulla KPIer\n",
    "\n",
    "säkerställ mätbara kpier\n",
    "\n",
    "sätt mätdatum = när ska vi mäta kpin\n",
    "\n",
    "upprätta relevanta spårningsverktyg\n",
    "\n"
   ]
  },
  {
   "cell_type": "markdown",
   "metadata": {},
   "source": [
    "olika typer av KPI:er\n",
    "\n",
    "process kpi- effektiviteten i en process, ex , leveranstid\n",
    "\n",
    "input kpi  tillgångar och resurser som leder till affärsnyttam ex oengar spenderade på forskning\n",
    "\n",
    "output kpi  ekonomiska mörvörden eller avkastning, ex vinst\n",
    "\n",
    "leading kpi  framtida prestation, ex, faktorer som leder till framgång\n",
    "\n"
   ]
  },
  {
   "cell_type": "markdown",
   "metadata": {},
   "source": [
    "sätta ett värde\n",
    "\n",
    "absolut bvärde\n",
    "\n",
    "x av skadat gods\n",
    "\n",
    "x i tid leveranser\n",
    "\n",
    "x antal felfria transaktioner\n",
    "\n",
    "jäfmrörande värde\n",
    "\n"
   ]
  },
  {
   "cell_type": "markdown",
   "metadata": {},
   "source": [
    "data insamling\n",
    "\n",
    "precision\n",
    "\n",
    "tillförlitlighet\n",
    "\n",
    "tillgång\n",
    "\n",
    "tidslös\n",
    "\n",
    "långsiktigt"
   ]
  },
  {
   "cell_type": "markdown",
   "metadata": {},
   "source": []
  },
  {
   "cell_type": "markdown",
   "metadata": {},
   "source": [
    "nackdelar med kpi:er\n",
    "\n",
    "ensidigt synsätt, externa delar kan missas\n",
    "\n",
    "skapa data till organisationen\n",
    "\n",
    "frekvent data insamling\n",
    "\n",
    "ska mätas löpande\n",
    "\n",
    "tillbakablick, inte framåt\n",
    "\n",
    "mycket mätning\n",
    "\n"
   ]
  },
  {
   "cell_type": "markdown",
   "metadata": {},
   "source": []
  },
  {
   "cell_type": "markdown",
   "metadata": {},
   "source": [
    "exempel på då ai kan underlätta KPI:er\n",
    "\n",
    "classification accuracy\n",
    "\n",
    "root mean square error\n",
    "\n",
    "mean absolute error\n",
    "\n",
    "sensitivity, specificity error\n",
    "\n",
    "number of business questions, problems,  requests adressed, responsiveness  to the businiess quesstions\n",
    "\n",
    "number of departments b"
   ]
  },
  {
   "cell_type": "markdown",
   "metadata": {},
   "source": [
    "vad säger chatgpt att ai kan hjälpa till med\n",
    "\n",
    "ai kan stödja en verksamhet på flera sätt när det gäller att skapa mäta och följa upp företagets kpier, här är några sätt hur ai som ka vara till nyttta\n",
    "\n",
    "datainsamling och analys  ai kan automatisering insamling av fata från olika käller, vilket gör det möjligt att snabbt och effektivt samla in relevanta data för kpier\n",
    "\n",
    "förutsägelser - med hjälp av maskininläning kan ai förustäga framtida trender baserat på historiska data, detta kan ghälpa för att förutse framtida prestanda och justera sina strategier edärefter\n",
    "\n",
    "automatiserad rapportering  \n",
    "\n",
    "optimering\n",
    "\n",
    "anomalidetektering genom att analysera kpi-data kan ai föreslå optimeringsstrategier för att förbättrra prestanda\n",
    "\n",
    "\n",
    "\n",
    "interaktiv analys\n",
    "\n",
    "integration med andra system\n",
    "\n",
    "anpassning\n",
    "\n"
   ]
  },
  {
   "cell_type": "markdown",
   "metadata": {},
   "source": []
  },
  {
   "cell_type": "markdown",
   "metadata": {},
   "source": [
    "the goal is now to determine the finlucence of ai capabilities on operational product kpis such as cost per acquisition, new sessions, retention rate, conversion rate, or number of trial signups.\n",
    "the hypothesis is the more pronounced the ai capabilities in the product are, the greater their influence on operational kpis.\n",
    "\n",
    "for a product with high ai capabilityl it is legitimate to put kpi changes in direct connection with it, for examplle google home devices in combination with the google assistant have a high ai capability\n"
   ]
  },
  {
   "cell_type": "markdown",
   "metadata": {},
   "source": []
  }
 ],
 "metadata": {
  "language_info": {
   "name": "python"
  }
 },
 "nbformat": 4,
 "nbformat_minor": 2
}
