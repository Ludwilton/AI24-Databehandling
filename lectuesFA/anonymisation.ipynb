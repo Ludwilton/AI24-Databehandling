{
 "cells": [
  {
   "cell_type": "code",
   "execution_count": 5,
   "metadata": {},
   "outputs": [],
   "source": [
    "import pandas as pd\n",
    "import hashlib as hl"
   ]
  },
  {
   "cell_type": "code",
   "execution_count": 4,
   "metadata": {},
   "outputs": [
    {
     "name": "stdout",
     "output_type": "stream",
     "text": [
      "email (SHA-256): 7d6d9a849ccc7f5febe065ebe3b4f39558fc96ef865e02333dd7b7426ff0c057\n",
      "email (SHA-256): 5a1d7bd95608d9067b72c9a04f97e82067922da234d68713fcd0236611737bd0\n"
     ]
    }
   ],
   "source": [
    "# returns utf-8 encoded version of the string\n",
    "\n",
    "string_to_hash = \"gore_bord@gmail.com\".encode()\n",
    "string_to_hash2 = \"Gore_bord@gmail.com\".encode()\n",
    "\n",
    "print(f\"email (SHA-256): {hl.sha256(string_to_hash).hexdigest()}\")\n",
    "print(f\"email (SHA-256): {hl.sha256(string_to_hash2).hexdigest()}\")"
   ]
  },
  {
   "cell_type": "code",
   "execution_count": 8,
   "metadata": {},
   "outputs": [
    {
     "data": {
      "text/plain": [
       "True"
      ]
     },
     "execution_count": 8,
     "metadata": {},
     "output_type": "execute_result"
    }
   ],
   "source": [
    "hl.sha256(string_to_hash2).hexdigest() == \"5a1d7bd95608d9067b72c9a04f97e82067922da234d68713fcd0236611737bd0\""
   ]
  },
  {
   "cell_type": "code",
   "execution_count": null,
   "metadata": {},
   "outputs": [],
   "source": []
  }
 ],
 "metadata": {
  "kernelspec": {
   "display_name": ".venv",
   "language": "python",
   "name": "python3"
  },
  "language_info": {
   "codemirror_mode": {
    "name": "ipython",
    "version": 3
   },
   "file_extension": ".py",
   "mimetype": "text/x-python",
   "name": "python",
   "nbconvert_exporter": "python",
   "pygments_lexer": "ipython3",
   "version": "3.12.2"
  }
 },
 "nbformat": 4,
 "nbformat_minor": 2
}
